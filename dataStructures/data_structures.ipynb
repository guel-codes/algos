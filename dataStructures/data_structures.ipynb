{
 "cells": [
  {
   "cell_type": "markdown",
   "metadata": {},
   "source": [
    "# Overview\n",
    "- This notebook will be used to explore the different types of data structures within Python"
   ]
  },
  {
   "cell_type": "code",
   "execution_count": 1,
   "metadata": {},
   "outputs": [],
   "source": [
    "import numpy as numpy"
   ]
  },
  {
   "cell_type": "code",
   "execution_count": 2,
   "metadata": {},
   "outputs": [
    {
     "name": "stdout",
     "output_type": "stream",
     "text": [
      "[0, 1, 2, 3, 4, 'hello']\n",
      "['0' '1' '2' '3' '4' 'hello']\n"
     ]
    }
   ],
   "source": [
    "# Python doesn't have the concept of an array out of the box so we need to utilize the linear algebra module NumPy\n",
    "list_1 = [0,1,2,3,4,\"hello\"]\n",
    "    # python list allow for a mix of data types\n",
    "array_1 = numpy.array([0,1,2,3,4,\"hello\"])\n",
    "    # numpy arrays allow\n",
    "\n",
    "\n",
    "print(list_1)\n",
    "print(array_1)"
   ]
  }
 ],
 "metadata": {
  "kernelspec": {
   "display_name": "Python 3 (ipykernel)",
   "language": "python",
   "name": "python3"
  },
  "language_info": {
   "codemirror_mode": {
    "name": "ipython",
    "version": 3
   },
   "file_extension": ".py",
   "mimetype": "text/x-python",
   "name": "python",
   "nbconvert_exporter": "python",
   "pygments_lexer": "ipython3",
   "version": "3.9.7"
  }
 },
 "nbformat": 4,
 "nbformat_minor": 2
}
